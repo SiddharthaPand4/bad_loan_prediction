{
  "nbformat": 4,
  "nbformat_minor": 0,
  "metadata": {
    "colab": {
      "name": "Loan_Prediction.ipynb",
      "private_outputs": true,
      "provenance": [],
      "collapsed_sections": [],
      "authorship_tag": "ABX9TyMdR//2/6MRg3IHY/xaAoTS",
      "include_colab_link": true
    },
    "kernelspec": {
      "name": "python3",
      "display_name": "Python 3"
    },
    "language_info": {
      "name": "python"
    },
    "accelerator": "GPU",
    "gpuClass": "standard"
  },
  "cells": [
    {
      "cell_type": "markdown",
      "metadata": {
        "id": "view-in-github",
        "colab_type": "text"
      },
      "source": [
        "<a href=\"https://colab.research.google.com/github/SiddharthaPand4/bad_loan_prediction/blob/main/Loan_Prediction.ipynb\" target=\"_parent\"><img src=\"https://colab.research.google.com/assets/colab-badge.svg\" alt=\"Open In Colab\"/></a>"
      ]
    },
    {
      "cell_type": "code",
      "source": [
        "!unzip senior_ds_test.zip"
      ],
      "metadata": {
        "id": "nuc41BZyv-9P"
      },
      "execution_count": null,
      "outputs": []
    },
    {
      "cell_type": "code",
      "execution_count": null,
      "metadata": {
        "id": "5iD-U3zLvyyL"
      },
      "outputs": [],
      "source": [
        "import pandas as pd\n",
        "import numpy as np\n",
        "import json\n",
        "import tensorflow as tf"
      ]
    },
    {
      "cell_type": "code",
      "source": [
        "train_flag = pd.read_csv(\"./senior_ds_test/data/train/train_flag.csv\")"
      ],
      "metadata": {
        "id": "Tz5FBuzFyUBb"
      },
      "execution_count": null,
      "outputs": []
    },
    {
      "cell_type": "code",
      "source": [
        "train_flag.head()"
      ],
      "metadata": {
        "id": "dvRWnNvP1HHr"
      },
      "execution_count": null,
      "outputs": []
    },
    {
      "cell_type": "code",
      "source": [
        "train_flag.NAME_CONTRACT_TYPE.unique()"
      ],
      "metadata": {
        "id": "AoFLda2sUMME"
      },
      "execution_count": null,
      "outputs": []
    },
    {
      "cell_type": "code",
      "source": [
        "train_flag_list = train_flag.values.tolist()"
      ],
      "metadata": {
        "id": "hJwK1bJKTZh1"
      },
      "execution_count": null,
      "outputs": []
    },
    {
      "cell_type": "code",
      "source": [
        "applicant_data = {}\n",
        "for row in train_flag_list:\n",
        "    applicant_data[row[0]] = {\n",
        "        \"contract_type\": row[1],\n",
        "        \"target\": row[2]\n",
        "    }\n",
        "\n",
        "print(len(applicant_data))"
      ],
      "metadata": {
        "id": "2DSLE2I0TZkn"
      },
      "execution_count": null,
      "outputs": []
    },
    {
      "cell_type": "code",
      "source": [
        "print(train_flag.shape)\n",
        "print(train_flag.NAME_CONTRACT_TYPE.describe())\n",
        "print(train_flag.uid.describe())\n",
        "print(train_flag.TARGET.describe())"
      ],
      "metadata": {
        "id": "RShdqVHR1Jmp"
      },
      "execution_count": null,
      "outputs": []
    },
    {
      "cell_type": "code",
      "source": [
        "json_file = open(\"./senior_ds_test/data/train/accounts_data_train.json\")\n",
        "data = json.loads(json_file.read())"
      ],
      "metadata": {
        "id": "w1c-c_-u2UEb"
      },
      "execution_count": null,
      "outputs": []
    },
    {
      "cell_type": "code",
      "source": [
        "'''\n",
        "  checking if all columns in a row in the json data correspond to the same applicant\n",
        "   and if all rows have unique applicant history\n",
        "'''\n",
        "\n",
        "print(len(data))\n",
        "uid_set = set()\n",
        "for p in data:\n",
        "    assert p[0][\"uid\"] not in uid_set\n",
        "    small_set = set()\n",
        "    for l in p:\n",
        "        small_set.add(l[\"uid\"])\n",
        "        uid_set.add(l[\"uid\"])\n",
        "        assert len(small_set) == 1\n",
        "\n",
        "assert len(data) == len(uid_set)\n",
        "print(len(uid_set))"
      ],
      "metadata": {
        "id": "Ri1wt_En2UG4"
      },
      "execution_count": null,
      "outputs": []
    },
    {
      "cell_type": "code",
      "source": [
        "data[0]"
      ],
      "metadata": {
        "id": "6ytr8dIa33CZ"
      },
      "execution_count": null,
      "outputs": []
    },
    {
      "cell_type": "code",
      "source": [
        "def preprocess_account_data(account_data, res):\n",
        "    for person_data in account_data:\n",
        "        uid = person_data[0][\"uid\"]\n",
        "        res[uid][\"total_loan_amount\"] = 0\n",
        "        res[uid][\"total_amount_overdue\"] = 0\n",
        "        res[uid][\"loans_running\"] = 0\n",
        "        res[uid][\"total_days_overdue\"] = 0\n",
        "        res[uid][\"credit_type_count\"] = {}\n",
        "        \n",
        "        for loan_data in person_data:\n",
        "            res[uid][\"total_loan_amount\"] += loan_data[\"loan_amount\"]\n",
        "\n",
        "            res[uid][\"total_amount_overdue\"] += loan_data[\"amount_overdue\"]\n",
        "\n",
        "            res[uid][\"loans_running\"] += 1 if not loan_data[\"closed_date\"] else 0\n",
        "\n",
        "            credit_type = loan_data[\"credit_type\"]\n",
        "            count = res[uid][\"credit_type_count\"].get(credit_type, 0)\n",
        "            res[uid][\"credit_type_count\"][credit_type] = count + 1\n",
        "\n",
        "            payment_hist = loan_data[\"payment_hist_string\"]\n",
        "            assert len(payment_hist) % 3 == 0\n",
        "            for i in range(0, len(payment_hist), 3):\n",
        "                due_days = int(payment_hist[i: i+3])\n",
        "                res[uid][\"total_days_overdue\"] += due_days\n",
        "        \n",
        "    return res"
      ],
      "metadata": {
        "id": "Chzk72Fkwkwn"
      },
      "execution_count": null,
      "outputs": []
    },
    {
      "cell_type": "code",
      "source": [
        "account_data = preprocess_account_data(data, applicant_data)\n",
        "print(len(account_data))"
      ],
      "metadata": {
        "id": "SGuHXO5kwkzc"
      },
      "execution_count": null,
      "outputs": []
    },
    {
      "cell_type": "code",
      "source": [
        "account_data[list(account_data.keys())[8]]"
      ],
      "metadata": {
        "id": "wpLDW7rL3YNW"
      },
      "execution_count": null,
      "outputs": []
    },
    {
      "cell_type": "code",
      "source": [
        "json_file = open(\"./senior_ds_test/data/train/enquiry_data_train.json\")\n",
        "data = json.loads(json_file.read())"
      ],
      "metadata": {
        "id": "Av25CE4253vJ"
      },
      "execution_count": null,
      "outputs": []
    },
    {
      "cell_type": "code",
      "source": [
        "'''\n",
        "  checking if all columns in a row in the json data correspond to the same applicant\n",
        "   and if all rows have unique applicant history\n",
        "'''\n",
        "\n",
        "print(len(data))\n",
        "uid_set = set()\n",
        "for p in data:\n",
        "    assert p[0][\"uid\"] not in uid_set\n",
        "    small_set = set()\n",
        "    for l in p:\n",
        "        small_set.add(l[\"uid\"])\n",
        "        uid_set.add(l[\"uid\"])\n",
        "        assert len(small_set) == 1\n",
        "\n",
        "assert len(data) == len(uid_set)\n",
        "print(len(uid_set))"
      ],
      "metadata": {
        "id": "zhnWsvWf5_8X"
      },
      "execution_count": null,
      "outputs": []
    },
    {
      "cell_type": "code",
      "source": [
        "data[10]"
      ],
      "metadata": {
        "id": "jZ1FGG0V5_2k"
      },
      "execution_count": null,
      "outputs": []
    },
    {
      "cell_type": "code",
      "source": [
        "def preprocess_enquiry_data(enquiry_data, account_data_dict):\n",
        "    for person_data in enquiry_data:\n",
        "        uid = person_data[0][\"uid\"]\n",
        "        if account_data_dict[uid].get(\"credit_type_count\", -1) == -1:\n",
        "            account_data_dict[uid][\"total_loan_amount\"] = 0\n",
        "            account_data_dict[uid][\"total_amount_overdue\"] = 0\n",
        "            account_data_dict[uid][\"loans_running\"] = 0\n",
        "            account_data_dict[uid][\"total_days_overdue\"] = 0\n",
        "            account_data_dict[uid][\"credit_type_count\"] = {}\n",
        "        \n",
        "        account_data_dict[uid][\"total_enquiry_amount\"] = 0\n",
        "        account_data_dict[uid][\"enquiry_type_count\"] = {}\n",
        "        for enquiry in person_data:\n",
        "            account_data_dict[uid][\"total_enquiry_amount\"] += enquiry[\"enquiry_amt\"]\n",
        "\n",
        "            enquiry_type = enquiry[\"enquiry_type\"]\n",
        "            count = account_data_dict[uid][\"enquiry_type_count\"].get(enquiry_type, 0)\n",
        "            account_data_dict[uid][\"enquiry_type_count\"][enquiry_type] = count + 1\n",
        "        \n",
        "    return account_data_dict"
      ],
      "metadata": {
        "id": "SaWhNkz_0_W-"
      },
      "execution_count": null,
      "outputs": []
    },
    {
      "cell_type": "code",
      "source": [
        "applicant_data = preprocess_enquiry_data(data, account_data)\n",
        "print(len(applicant_data))"
      ],
      "metadata": {
        "id": "tiy0fKUA_IeR"
      },
      "execution_count": null,
      "outputs": []
    },
    {
      "cell_type": "code",
      "source": [
        "applicant_data[list(applicant_data.keys())[0]]"
      ],
      "metadata": {
        "id": "_nxg84e1_SrV"
      },
      "execution_count": null,
      "outputs": []
    },
    {
      "cell_type": "code",
      "source": [
        "enquiry_types = set()\n",
        "for k,v in applicant_data.items():\n",
        "    for e in v[\"enquiry_type_count\"].keys():\n",
        "        enquiry_types.add(e)\n",
        "\n",
        "print(len(enquiry_types))"
      ],
      "metadata": {
        "id": "xYiCDzQd_9X4"
      },
      "execution_count": null,
      "outputs": []
    },
    {
      "cell_type": "code",
      "source": [
        "enquiry_type_index = {e:i for i, e in enumerate(enquiry_types)}\n",
        "enquiry_type_index"
      ],
      "metadata": {
        "id": "JPIVl61EBeGH"
      },
      "execution_count": null,
      "outputs": []
    },
    {
      "cell_type": "code",
      "source": [
        "credit_types = set()\n",
        "for k,v in applicant_data.items():\n",
        "    # if not v.get(\"credit_type_count\"):\n",
        "    #     print(k)\n",
        "    #     break\n",
        "    for e in v[\"credit_type_count\"].keys():\n",
        "        credit_types.add(e)\n",
        "\n",
        "print(len(credit_types))"
      ],
      "metadata": {
        "id": "vFwHIfw0BgZb"
      },
      "execution_count": null,
      "outputs": []
    },
    {
      "cell_type": "code",
      "source": [
        "credit_type_index = {e:i for i, e in enumerate(credit_types)}\n",
        "credit_type_index"
      ],
      "metadata": {
        "id": "q8sPQbIxCQk1"
      },
      "execution_count": null,
      "outputs": []
    },
    {
      "cell_type": "code",
      "source": [
        "applicant_data[list(applicant_data.keys())[0]]"
      ],
      "metadata": {
        "id": "vMQO2OZZCo41"
      },
      "execution_count": null,
      "outputs": []
    },
    {
      "cell_type": "code",
      "source": [
        "train_data = []\n",
        "for uid, details in applicant_data.items():\n",
        "    total_loan_amount = details[\"total_loan_amount\"]\n",
        "    total_amount_overdue = details[\"total_amount_overdue\"]\n",
        "    loans_running = details[\"loans_running\"]\n",
        "    total_days_overdue = details[\"total_days_overdue\"]\n",
        "    total_enquiry_amount = details[\"total_enquiry_amount\"]\n",
        "    contract_type = details[\"contract_type\"] == \"Cash loans\"\n",
        "    target = details[\"target\"]\n",
        "\n",
        "    row = [total_loan_amount, total_amount_overdue, loans_running, total_days_overdue, total_enquiry_amount,\n",
        "           contract_type]\n",
        "\n",
        "    credit_type_counts = [0]*len(credit_types)\n",
        "    for c_type, count in details[\"credit_type_count\"].items():\n",
        "        credit_type_counts[credit_type_index[c_type]] = count\n",
        "    row.extend(credit_type_counts)\n",
        "\n",
        "    enquiry_type_counts = [0]*len(enquiry_types)\n",
        "    for e_type, count in details[\"enquiry_type_count\"].items():\n",
        "        enquiry_type_counts[enquiry_type_index[e_type]] = count\n",
        "    row.extend(enquiry_type_counts)\n",
        "    row.append(target)\n",
        "\n",
        "    train_data.append(row)"
      ],
      "metadata": {
        "id": "Pe8dCZBrIy30"
      },
      "execution_count": null,
      "outputs": []
    },
    {
      "cell_type": "code",
      "source": [
        "print(len(train_data), len(train_data[0]))"
      ],
      "metadata": {
        "id": "7JtSWY6VPQsj"
      },
      "execution_count": null,
      "outputs": []
    },
    {
      "cell_type": "code",
      "source": [
        "data = np.array(train_data)"
      ],
      "metadata": {
        "id": "pvUvaCQBPl5z"
      },
      "execution_count": null,
      "outputs": []
    },
    {
      "cell_type": "code",
      "source": [
        "data = data[~np.isnan(data).any(axis=1)]\n",
        "\n",
        "print(data.shape)\n",
        "print(type(data))"
      ],
      "metadata": {
        "id": "IEWfE3gUSi46"
      },
      "execution_count": null,
      "outputs": []
    },
    {
      "cell_type": "code",
      "source": [
        "pos_data = data[data[:, 36]==1]\n",
        "pos_data.shape"
      ],
      "metadata": {
        "id": "MRsFEw6pqRpC"
      },
      "execution_count": null,
      "outputs": []
    },
    {
      "cell_type": "code",
      "source": [
        "non_pos_data = data[data[:, 36]==0]\n",
        "print(non_pos_data.shape)\n",
        "\n",
        "idx = np.random.randint(non_pos_data.shape[0], size=pos_data.shape[0])\n",
        "neg_data = non_pos_data[idx, :]\n",
        "print(neg_data.shape)"
      ],
      "metadata": {
        "id": "rDwQb_z-qRr0"
      },
      "execution_count": null,
      "outputs": []
    },
    {
      "cell_type": "code",
      "source": [
        "data = np.concatenate((pos_data, neg_data))\n",
        "np.random.shuffle(data)\n",
        "\n",
        "print(data.shape)\n",
        "print(type(data))"
      ],
      "metadata": {
        "id": "4QNCDcWuqSUZ"
      },
      "execution_count": null,
      "outputs": []
    },
    {
      "cell_type": "code",
      "source": [
        "split = 0.8\n",
        "train = data[:int(split*data.shape[0])]\n",
        "val = data[int(split*data.shape[0]):int(0.9*data.shape[0])]\n",
        "test = data[int(0.9*data.shape[0]):]\n",
        "print(data.shape, train.shape, val.shape, test.shape)"
      ],
      "metadata": {
        "id": "nxPpBxPhTDVV"
      },
      "execution_count": null,
      "outputs": []
    },
    {
      "cell_type": "code",
      "source": [
        "train_x, train_y = train[:, :36], train[:, 36]\n",
        "print(train_x.shape, train_y.shape)\n",
        "val_x, val_y = val[:, :36], val[:, 36]\n",
        "print(val_x.shape, val_y.shape)\n",
        "test_x, test_y = test[:, :36], test[:, 36]\n",
        "print(test_x.shape, test_y.shape)"
      ],
      "metadata": {
        "id": "nQeI5rudeeLl"
      },
      "execution_count": null,
      "outputs": []
    },
    {
      "cell_type": "code",
      "source": [
        "means = np.mean(train_x, axis=0)\n",
        "stds = np.std(train_x, axis=0)  # [:5]\n",
        "print(means.shape, stds.shape)"
      ],
      "metadata": {
        "id": "FW2FU18L3bAX"
      },
      "execution_count": null,
      "outputs": []
    },
    {
      "cell_type": "code",
      "source": [
        "train_x = (train_x-means)/(stds + 0.000000001)\n",
        "val_x = (val_x-means)/(stds + 0.000000001)\n",
        "test_x = (test_x-means)/(stds + 0.000000001)"
      ],
      "metadata": {
        "id": "L5_FKgey3fkG"
      },
      "execution_count": null,
      "outputs": []
    },
    {
      "cell_type": "code",
      "source": [
        "sum(train_y == 0)"
      ],
      "metadata": {
        "id": "Pb6MkBzsgv5w"
      },
      "execution_count": null,
      "outputs": []
    },
    {
      "cell_type": "code",
      "source": [
        "model = tf.keras.Sequential([\n",
        "    tf.keras.layers.Dense(units=128, activation=\"relu\"),\n",
        "    tf.keras.layers.Dense(units=32, activation=\"relu\"),\n",
        "    tf.keras.layers.Dense(units=1, activation=\"sigmoid\")\n",
        "])\n",
        "\n",
        "model.compile(optimizer='adam', loss='binary_crossentropy', metrics=[\"accuracy\"])  #, tf.keras.metrics.AUC()])"
      ],
      "metadata": {
        "id": "a3nIYLgoTBPh"
      },
      "execution_count": null,
      "outputs": []
    },
    {
      "cell_type": "code",
      "source": [
        "model.fit(train_x, train_y, epochs=50, validation_data=(val_x, val_y))"
      ],
      "metadata": {
        "id": "HQ5MzenYeVV6"
      },
      "execution_count": null,
      "outputs": []
    },
    {
      "cell_type": "code",
      "source": [],
      "metadata": {
        "id": "vYZPeosqfXLI"
      },
      "execution_count": null,
      "outputs": []
    }
  ]
}